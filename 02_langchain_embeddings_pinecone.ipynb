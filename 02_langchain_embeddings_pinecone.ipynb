{
 "cells": [
  {
   "cell_type": "markdown",
   "id": "5f10b4d1",
   "metadata": {},
   "source": [
    "### Splitting and Embedding Text Using LangChain"
   ]
  },
  {
   "cell_type": "code",
   "execution_count": null,
   "id": "8859749e",
   "metadata": {
    "ExecuteTime": {
     "start_time": "2023-09-21T23:49:09.402789Z",
     "end_time": "2023-09-21T23:49:09.410818Z"
    }
   },
   "outputs": [],
   "source": [
    "import os\n",
    "from dotenv import load_dotenv, find_dotenv\n",
    "load_dotenv(find_dotenv(), override=True)"
   ]
  },
  {
   "cell_type": "code",
   "execution_count": null,
   "id": "5cedb18d",
   "metadata": {
    "ExecuteTime": {
     "start_time": "2023-09-21T23:50:33.399754Z",
     "end_time": "2023-09-21T23:50:33.408009Z"
    }
   },
   "outputs": [],
   "source": [
    "from langchain.text_splitter import RecursiveCharacterTextSplitter\n",
    "\n",
    "with open('files/churchill_speech.txt') as f:\n",
    "    churchill_speech = f.read()\n",
    "\n",
    "\n",
    "text_splitter = RecursiveCharacterTextSplitter(\n",
    "    chunk_size=100,\n",
    "    chunk_overlap=20,\n",
    "    length_function=len\n",
    ")"
   ]
  },
  {
   "cell_type": "code",
   "execution_count": null,
   "id": "e0693ae6",
   "metadata": {
    "ExecuteTime": {
     "start_time": "2023-09-21T23:50:43.391364Z",
     "end_time": "2023-09-21T23:50:43.417898Z"
    }
   },
   "outputs": [],
   "source": [
    "chunks = text_splitter.create_documents([churchill_speech])\n",
    "# print(chunks[2])\n",
    "# print(chunks[10].page_content)\n",
    "print(f'Now you have {len(chunks)} chunks')"
   ]
  },
  {
   "cell_type": "markdown",
   "id": "df4d686b",
   "metadata": {},
   "source": [
    "#### Embedding Cost"
   ]
  },
  {
   "cell_type": "code",
   "execution_count": null,
   "id": "8ed819e6",
   "metadata": {
    "ExecuteTime": {
     "start_time": "2023-09-21T23:50:50.350543Z",
     "end_time": "2023-09-21T23:50:52.893441Z"
    }
   },
   "outputs": [],
   "source": [
    "def print_embedding_cost(texts):\n",
    "    import tiktoken\n",
    "    enc = tiktoken.encoding_for_model('text-embedding-ada-002')\n",
    "    total_tokens = sum([len(enc.encode(page.page_content)) for page in texts])\n",
    "    print(f'Total Tokens: {total_tokens}')\n",
    "    print(f'Embedding Cost in USD: {total_tokens / 1000 * 0.0004:.6f}')\n",
    "    \n",
    "print_embedding_cost(chunks)"
   ]
  },
  {
   "cell_type": "markdown",
   "id": "bdf79b3b",
   "metadata": {},
   "source": [
    "### Creating embeddings"
   ]
  },
  {
   "cell_type": "code",
   "execution_count": null,
   "id": "3bdfd40d",
   "metadata": {
    "ExecuteTime": {
     "start_time": "2023-09-21T23:50:58.052447Z",
     "end_time": "2023-09-21T23:50:58.077927Z"
    }
   },
   "outputs": [],
   "source": [
    "from langchain.embeddings import OpenAIEmbeddings\n",
    "embeddings = OpenAIEmbeddings()"
   ]
  },
  {
   "cell_type": "code",
   "execution_count": null,
   "id": "425c3c35",
   "metadata": {
    "ExecuteTime": {
     "start_time": "2023-09-21T23:51:00.050573Z",
     "end_time": "2023-09-21T23:51:01.030552Z"
    }
   },
   "outputs": [],
   "source": [
    "vector = embeddings.embed_query(chunks[0].page_content)\n",
    "vector"
   ]
  },
  {
   "cell_type": "markdown",
   "id": "96f866ff",
   "metadata": {},
   "source": [
    "### Inserting the Embeddings into a Pinecone Index"
   ]
  },
  {
   "cell_type": "code",
   "execution_count": null,
   "id": "5215b7e7",
   "metadata": {
    "ExecuteTime": {
     "start_time": "2023-09-21T23:51:52.724891Z",
     "end_time": "2023-09-21T23:51:52.913845Z"
    }
   },
   "outputs": [],
   "source": [
    "import os\n",
    "import pinecone\n",
    "from langchain.vectorstores import Pinecone\n",
    "from tqdm.autonotebook import tqdm\n",
    "\n",
    "pinecone.init(api_key=os.environ.get('PINECONE_API_KEY'), environment=os.environ.get('PINECONE_ENV'))"
   ]
  },
  {
   "cell_type": "code",
   "execution_count": null,
   "id": "bb3b94b4",
   "metadata": {
    "ExecuteTime": {
     "start_time": "2023-09-21T23:52:26.243576Z",
     "end_time": "2023-09-21T23:52:26.426324Z"
    }
   },
   "outputs": [],
   "source": [
    "# deleting all indexes\n",
    "indexes = pinecone.list_indexes()\n",
    "for i in indexes:\n",
    "    print('Deleting all indexes ... ', end='')\n",
    "    pinecone.delete_index(i)\n",
    "    print('Done')"
   ]
  },
  {
   "cell_type": "code",
   "execution_count": null,
   "id": "cc9404a9",
   "metadata": {
    "ExecuteTime": {
     "start_time": "2023-09-21T23:52:36.666121Z",
     "end_time": "2023-09-21T23:52:52.936298Z"
    }
   },
   "outputs": [],
   "source": [
    "# creating an index\n",
    "index_name = 'churchill-speech'\n",
    "if index_name not in pinecone.list_indexes():\n",
    "    print(f'Creating index {index_name} ...')\n",
    "    pinecone.create_index(index_name, dimension=1536, metric='cosine')\n",
    "    print('Done!')"
   ]
  },
  {
   "cell_type": "code",
   "execution_count": null,
   "id": "9bb84fba",
   "metadata": {
    "ExecuteTime": {
     "start_time": "2023-09-21T23:53:20.664850Z",
     "end_time": "2023-09-21T23:53:32.661787Z"
    }
   },
   "outputs": [],
   "source": [
    "vector_store = Pinecone.from_documents(chunks, embeddings, index_name=index_name)"
   ]
  },
  {
   "cell_type": "markdown",
   "id": "0cb0b01d",
   "metadata": {},
   "source": [
    "### Asking Questions (Similarity Search)"
   ]
  },
  {
   "cell_type": "code",
   "execution_count": null,
   "id": "e4cccccd",
   "metadata": {
    "ExecuteTime": {
     "start_time": "2023-09-21T23:57:33.441360Z",
     "end_time": "2023-09-21T23:57:34.493655Z"
    }
   },
   "outputs": [],
   "source": [
    "query = 'Where should we fight?'\n",
    "result = vector_store.similarity_search(query)\n",
    "print(result)"
   ]
  },
  {
   "cell_type": "code",
   "execution_count": null,
   "id": "0bdacf56",
   "metadata": {
    "scrolled": true,
    "ExecuteTime": {
     "start_time": "2023-09-21T23:58:22.728252Z",
     "end_time": "2023-09-21T23:58:22.767344Z"
    }
   },
   "outputs": [],
   "source": [
    "for r in result:\n",
    "    print(r.page_content)\n",
    "    print('-' * 50)"
   ]
  },
  {
   "cell_type": "markdown",
   "id": "5f155a46",
   "metadata": {},
   "source": [
    "### Answering in Natural Language using an LLM"
   ]
  },
  {
   "cell_type": "code",
   "execution_count": null,
   "id": "19cf0082",
   "metadata": {
    "ExecuteTime": {
     "start_time": "2023-09-22T00:02:44.183631Z",
     "end_time": "2023-09-22T00:02:44.189005Z"
    }
   },
   "outputs": [],
   "source": [
    "from langchain.chains import RetrievalQA\n",
    "from langchain.chat_models import ChatOpenAI\n",
    "\n",
    "llm = ChatOpenAI(model='gpt-3.5-turbo', temperature=1)\n",
    "\n",
    "retriever = vector_store.as_retriever(search_type='similarity', search_kwargs={'k': 5})\n",
    "\n",
    "chain = RetrievalQA.from_chain_type(llm=llm, chain_type=\"stuff\", retriever=retriever)\n"
   ]
  },
  {
   "cell_type": "code",
   "execution_count": null,
   "id": "bf8e6835",
   "metadata": {
    "ExecuteTime": {
     "start_time": "2023-09-22T00:02:45.788565Z",
     "end_time": "2023-09-22T00:02:48.613831Z"
    }
   },
   "outputs": [],
   "source": [
    "query = 'Where should we fight?'\n",
    "answer = chain.run(query)\n",
    "print(answer)"
   ]
  },
  {
   "cell_type": "code",
   "execution_count": null,
   "id": "09c9ab37",
   "metadata": {
    "ExecuteTime": {
     "start_time": "2023-09-22T00:03:43.658284Z",
     "end_time": "2023-09-22T00:03:45.248372Z"
    }
   },
   "outputs": [],
   "source": [
    "query = 'Who was the king of Belgium at that time?'\n",
    "# query = 'What about the French Armies??'\n",
    "answer = chain.run(query)\n",
    "print(answer)"
   ]
  },
  {
   "cell_type": "code",
   "execution_count": null,
   "id": "c8688ba8",
   "metadata": {},
   "outputs": [],
   "source": []
  }
 ],
 "metadata": {
  "kernelspec": {
   "display_name": "Python 3 (ipykernel)",
   "language": "python",
   "name": "python3"
  },
  "language_info": {
   "codemirror_mode": {
    "name": "ipython",
    "version": 3
   },
   "file_extension": ".py",
   "mimetype": "text/x-python",
   "name": "python",
   "nbconvert_exporter": "python",
   "pygments_lexer": "ipython3",
   "version": "3.10.6"
  }
 },
 "nbformat": 4,
 "nbformat_minor": 5
}
